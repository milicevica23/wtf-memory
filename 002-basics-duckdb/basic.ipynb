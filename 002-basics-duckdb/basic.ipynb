{
 "cells": [
  {
   "cell_type": "code",
   "execution_count": 1,
   "metadata": {},
   "outputs": [],
   "source": [
    "%load_ext memray"
   ]
  },
  {
   "cell_type": "code",
   "execution_count": 18,
   "metadata": {},
   "outputs": [
    {
     "ename": "ModuleNotFoundError",
     "evalue": "No module named 'pyarrow'",
     "output_type": "error",
     "traceback": [
      "\u001b[0;31m---------------------------------------------------------------------------\u001b[0m",
      "\u001b[0;31mModuleNotFoundError\u001b[0m                       Traceback (most recent call last)",
      "Cell \u001b[0;32mIn[18], line 12\u001b[0m\n\u001b[1;32m      8\u001b[0m \u001b[38;5;28;01mimport\u001b[39;00m \u001b[38;5;21;01mduckdb\u001b[39;00m\n\u001b[1;32m      9\u001b[0m conn \u001b[38;5;241m=\u001b[39m duckdb\u001b[38;5;241m.\u001b[39mconnect(\u001b[38;5;124m\"\u001b[39m\u001b[38;5;124m:memory:\u001b[39m\u001b[38;5;124m\"\u001b[39m)\n\u001b[1;32m     10\u001b[0m df \u001b[38;5;241m=\u001b[39m \u001b[43mconn\u001b[49m\u001b[38;5;241;43m.\u001b[39;49m\u001b[43msql\u001b[49m\u001b[43m(\u001b[49m\u001b[38;5;124;43m\"\"\"\u001b[39;49m\n\u001b[1;32m     11\u001b[0m \u001b[38;5;124;43mSELECT * FROM read_parquet(\u001b[39;49m\u001b[38;5;124;43m'\u001b[39;49m\u001b[38;5;124;43m/home/aleks/git/my-projects/wtf-memory/002-generate-tpch-data-with-duckdb/customer.parquet\u001b[39;49m\u001b[38;5;124;43m'\u001b[39;49m\u001b[38;5;124;43m);\u001b[39;49m\n\u001b[0;32m---> 12\u001b[0m \u001b[38;5;124;43m\u001b[39;49m\u001b[38;5;124;43m\"\"\"\u001b[39;49m\u001b[43m)\u001b[49m\u001b[38;5;241;43m.\u001b[39;49m\u001b[43marrow\u001b[49m\u001b[43m(\u001b[49m\u001b[43m)\u001b[49m\n",
      "\u001b[0;31mModuleNotFoundError\u001b[0m: No module named 'pyarrow'"
     ]
    },
    {
     "data": {
      "application/vnd.jupyter.widget-view+json": {
       "model_id": "18309f1a7368499fab67ff5805b25d8b",
       "version_major": 2,
       "version_minor": 0
      },
      "text/plain": [
       "Output()"
      ]
     },
     "metadata": {},
     "output_type": "display_data"
    },
    {
     "data": {
      "text/html": [
       "<pre style=\"white-space:pre;overflow-x:auto;line-height:normal;font-family:Menlo,'DejaVu Sans Mono',consolas,'Courier New',monospace\"></pre>\n"
      ],
      "text/plain": []
     },
     "metadata": {},
     "output_type": "display_data"
    },
    {
     "data": {
      "text/html": [
       "<pre style=\"white-space:pre;overflow-x:auto;line-height:normal;font-family:Menlo,'DejaVu Sans Mono',consolas,'Courier New',monospace\">\n",
       "</pre>\n"
      ],
      "text/plain": [
       "\n"
      ]
     },
     "metadata": {},
     "output_type": "display_data"
    },
    {
     "data": {
      "application/vnd.jupyter.widget-view+json": {
       "model_id": "2b101ee2c66e4baeb06ce189b6ba5b91",
       "version_major": 2,
       "version_minor": 0
      },
      "text/plain": [
       "Output()"
      ]
     },
     "metadata": {},
     "output_type": "display_data"
    },
    {
     "data": {
      "text/html": [
       "<pre style=\"white-space:pre;overflow-x:auto;line-height:normal;font-family:Menlo,'DejaVu Sans Mono',consolas,'Courier New',monospace\"></pre>\n"
      ],
      "text/plain": []
     },
     "metadata": {},
     "output_type": "display_data"
    },
    {
     "data": {
      "text/html": [
       "<pre style=\"white-space:pre;overflow-x:auto;line-height:normal;font-family:Menlo,'DejaVu Sans Mono',consolas,'Courier New',monospace\">\n",
       "</pre>\n"
      ],
      "text/plain": [
       "\n"
      ]
     },
     "metadata": {},
     "output_type": "display_data"
    },
    {
     "data": {
      "text/html": [
       "<pre style=\"white-space:pre;overflow-x:auto;line-height:normal;font-family:Menlo,'DejaVu Sans Mono',consolas,'Courier New',monospace\">Results saved to <span style=\"color: #008080; text-decoration-color: #008080; font-weight: bold\">memray-results/tmpsmudcypo/flamegraph.html</span>\n",
       "</pre>\n"
      ],
      "text/plain": [
       "Results saved to \u001b[1;36mmemray-results/tmpsmudcypo/flamegraph.html\u001b[0m\n"
      ]
     },
     "metadata": {},
     "output_type": "display_data"
    },
    {
     "data": {
      "text/html": [
       "\n",
       "        <iframe\n",
       "            width=\"100%\"\n",
       "            height=\"600\"\n",
       "            src=\"memray-results/tmpsmudcypo/flamegraph.html\"\n",
       "            frameborder=\"0\"\n",
       "            allowfullscreen\n",
       "            \n",
       "        ></iframe>\n",
       "        "
      ],
      "text/plain": [
       "<IPython.lib.display.IFrame at 0x7fe120e57490>"
      ]
     },
     "metadata": {},
     "output_type": "display_data"
    }
   ],
   "source": [
    "%%memray_flamegraph --native\n",
    "import duckdb\n",
    "conn = duckdb.connect(\":memory:\")\n",
    "df = conn.sql(\"\"\"\n",
    "SELECT * FROM read_parquet('/home/aleks/git/my-projects/wtf-memory/002-generate-tpch-data-with-duckdb/customer.parquet');\n",
    "\"\"\").arrow()\n",
    "\n",
    "\n"
   ]
  },
  {
   "cell_type": "code",
   "execution_count": 1,
   "metadata": {},
   "outputs": [
    {
     "data": {
      "text/plain": [
       "┌─────────┐\n",
       "│ Success │\n",
       "│ boolean │\n",
       "├─────────┤\n",
       "│ 0 rows  │\n",
       "└─────────┘"
      ]
     },
     "execution_count": 1,
     "metadata": {},
     "output_type": "execute_result"
    }
   ],
   "source": [
    "import duckdb\n",
    "\n",
    "conn = duckdb.connect(\":memory:\")\n",
    "\n",
    "\n",
    "conn.sql(\n",
    "\"\"\"\n",
    "INSTALL tpch;\n",
    "LOAD tpch;\n",
    "CALL dbgen(sf = 0.3);\n",
    "\"\"\"\n",
    ")"
   ]
  },
  {
   "cell_type": "code",
   "execution_count": 4,
   "metadata": {},
   "outputs": [
    {
     "data": {
      "text/plain": [
       "<duckdb.duckdb.DuckDBPyConnection at 0x111693230>"
      ]
     },
     "execution_count": 4,
     "metadata": {},
     "output_type": "execute_result"
    }
   ],
   "source": [
    "dp = conn.sql(\"SELECT * FROM lineitem\")\n",
    "conn.register(\"test\", dp)"
   ]
  },
  {
   "cell_type": "code",
   "execution_count": 5,
   "metadata": {},
   "outputs": [
    {
     "data": {
      "text/plain": [
       "┌────────────┬───────────┬───────────┬──────────────┬───┬───────────────────┬────────────┬──────────────────────┐\n",
       "│ l_orderkey │ l_partkey │ l_suppkey │ l_linenumber │ … │  l_shipinstruct   │ l_shipmode │      l_comment       │\n",
       "│   int32    │   int32   │   int32   │    int32     │   │      varchar      │  varchar   │       varchar        │\n",
       "├────────────┼───────────┼───────────┼──────────────┼───┼───────────────────┼────────────┼──────────────────────┤\n",
       "│          1 │     46557 │      2323 │            1 │ … │ DELIVER IN PERSON │ TRUCK      │ to beans x-ray car…  │\n",
       "│          1 │     20193 │      2194 │            2 │ … │ TAKE BACK RETURN  │ MAIL       │  according to the …  │\n",
       "│          1 │     19110 │      1111 │            3 │ … │ TAKE BACK RETURN  │ REG AIR    │ ourts cajole above…  │\n",
       "│          1 │       640 │      1391 │            4 │ … │ NONE              │ AIR        │ s cajole busily ab…  │\n",
       "│          1 │      7208 │       465 │            5 │ … │ NONE              │ FOB        │  the regular, regu…  │\n",
       "│          1 │      4691 │       194 │            6 │ … │ DELIVER IN PERSON │ MAIL       │ rouches. special     │\n",
       "│          2 │     31851 │       372 │            1 │ … │ TAKE BACK RETURN  │ RAIL       │ re. enticingly reg…  │\n",
       "│          3 │      1290 │       541 │            1 │ … │ NONE              │ AIR        │ s cajole above the…  │\n",
       "│          3 │      5711 │      1965 │            2 │ … │ TAKE BACK RETURN  │ RAIL       │ ecial pinto beans.…  │\n",
       "│          3 │     38535 │      1060 │            3 │ … │ DELIVER IN PERSON │ SHIP       │ e carefully fina     │\n",
       "│          · │       ·   │        ·  │            · │ · │         ·         │  ·         │        ·             │\n",
       "│          · │       ·   │        ·  │            · │ · │         ·         │  ·         │        ·             │\n",
       "│          · │       ·   │        ·  │            · │ · │         ·         │  ·         │        ·             │\n",
       "│      10049 │     49213 │      1980 │            4 │ … │ DELIVER IN PERSON │ MAIL       │ to beans. slyly fi…  │\n",
       "│      10050 │     59947 │      2255 │            1 │ … │ NONE              │ TRUCK      │ es. specia           │\n",
       "│      10050 │     52734 │       269 │            2 │ … │ COLLECT COD       │ FOB        │ e even theodolites.  │\n",
       "│      10050 │     31356 │      2117 │            3 │ … │ COLLECT COD       │ RAIL       │ bold requests. iro…  │\n",
       "│      10050 │      6837 │        94 │            4 │ … │ COLLECT COD       │ MAIL       │ eans. final platel…  │\n",
       "│      10051 │     24856 │       131 │            1 │ … │ DELIVER IN PERSON │ SHIP       │ accounts: blithely…  │\n",
       "│      10051 │     29326 │       845 │            2 │ … │ TAKE BACK RETURN  │ TRUCK      │ g to the ironic      │\n",
       "│      10051 │     26075 │      2076 │            3 │ … │ TAKE BACK RETURN  │ REG AIR    │ yly regular ideas.…  │\n",
       "│      10051 │      1630 │      1631 │            4 │ … │ COLLECT COD       │ TRUCK      │  the slyly final r…  │\n",
       "│      10052 │     11597 │      2598 │            1 │ … │ NONE              │ SHIP       │ rding to the even …  │\n",
       "├────────────┴───────────┴───────────┴──────────────┴───┴───────────────────┴────────────┴──────────────────────┤\n",
       "│ ? rows (>9999 rows, 20 shown)                                                            16 columns (7 shown) │\n",
       "└───────────────────────────────────────────────────────────────────────────────────────────────────────────────┘"
      ]
     },
     "execution_count": 5,
     "metadata": {},
     "output_type": "execute_result"
    }
   ],
   "source": [
    "conn.sql(\"SELECT * FROM test\")"
   ]
  },
  {
   "cell_type": "code",
   "execution_count": 21,
   "metadata": {},
   "outputs": [
    {
     "name": "stdout",
     "output_type": "stream",
     "text": [
      "┌───────┬───────┐\n",
      "│   a   │   b   │\n",
      "│ int64 │ int64 │\n",
      "├───────┼───────┤\n",
      "│     1 │     2 │\n",
      "└───────┴───────┘\n",
      "\n"
     ]
    },
    {
     "ename": "InvalidInputException",
     "evalue": "Invalid Input Error: The relation you are attempting to register was not made from this connection",
     "output_type": "error",
     "traceback": [
      "\u001b[0;31m---------------------------------------------------------------------------\u001b[0m",
      "\u001b[0;31mInvalidInputException\u001b[0m                     Traceback (most recent call last)",
      "Cell \u001b[0;32mIn[21], line 8\u001b[0m\n\u001b[1;32m      6\u001b[0m df\u001b[38;5;241m.\u001b[39mshow()\n\u001b[1;32m      7\u001b[0m conn1 \u001b[38;5;241m=\u001b[39m duckdb\u001b[38;5;241m.\u001b[39mconnect(\u001b[38;5;124m\"\u001b[39m\u001b[38;5;124m:memory:\u001b[39m\u001b[38;5;124m\"\u001b[39m)\n\u001b[0;32m----> 8\u001b[0m \u001b[43mconn1\u001b[49m\u001b[38;5;241;43m.\u001b[39;49m\u001b[43mregister\u001b[49m\u001b[43m(\u001b[49m\u001b[38;5;124;43m\"\u001b[39;49m\u001b[38;5;124;43mtest\u001b[39;49m\u001b[38;5;124;43m\"\u001b[39;49m\u001b[43m,\u001b[49m\u001b[43m \u001b[49m\u001b[43mdf\u001b[49m\u001b[43m)\u001b[49m\n\u001b[1;32m      9\u001b[0m conn1\u001b[38;5;241m.\u001b[39mexecute(\u001b[38;5;124m\"\u001b[39m\u001b[38;5;124mSELECT * FROM test\u001b[39m\u001b[38;5;124m\"\u001b[39m)\n",
      "\u001b[0;31mInvalidInputException\u001b[0m: Invalid Input Error: The relation you are attempting to register was not made from this connection"
     ]
    }
   ],
   "source": [
    "import duckdb\n",
    "conn = duckdb.connect(\":memory:\")\n",
    "\n",
    "df = conn.sql(\"SELECT * FROM '/tmp/test.csv'\")\n",
    "#conn.close()\n",
    "\n",
    "conn1 = duckdb.connect(\":memory:\")\n",
    "conn1.register(\"test\", df)\n",
    "conn1.execute(\"SELECT * FROM test\")"
   ]
  },
  {
   "cell_type": "code",
   "execution_count": null,
   "metadata": {},
   "outputs": [],
   "source": []
  }
 ],
 "metadata": {
  "kernelspec": {
   "display_name": ".venv",
   "language": "python",
   "name": "python3"
  },
  "language_info": {
   "codemirror_mode": {
    "name": "ipython",
    "version": 3
   },
   "file_extension": ".py",
   "mimetype": "text/x-python",
   "name": "python",
   "nbconvert_exporter": "python",
   "pygments_lexer": "ipython3",
   "version": "3.11.7"
  }
 },
 "nbformat": 4,
 "nbformat_minor": 2
}
